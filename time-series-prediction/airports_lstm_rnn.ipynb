{
 "cells": [
  {
   "cell_type": "code",
   "execution_count": 1,
   "metadata": {
    "collapsed": true
   },
   "outputs": [],
   "source": [
    "%matplotlib inline"
   ]
  },
  {
   "cell_type": "code",
   "execution_count": 2,
   "metadata": {
    "collapsed": false
   },
   "outputs": [
    {
     "name": "stderr",
     "output_type": "stream",
     "text": [
      "Using TensorFlow backend.\n"
     ]
    }
   ],
   "source": [
    "import numpy\n",
    "import matplotlib.pyplot as plt\n",
    "import pandas\n",
    "import math\n",
    "from keras.models import Sequential\n",
    "from keras.layers import Dense\n",
    "from keras.layers import LSTM\n",
    "from sklearn.preprocessing import MinMaxScaler\n",
    "from sklearn.metrics import mean_squared_error"
   ]
  },
  {
   "cell_type": "code",
   "execution_count": 3,
   "metadata": {
    "collapsed": true
   },
   "outputs": [],
   "source": [
    "numpy.random.seed(666)"
   ]
  },
  {
   "cell_type": "code",
   "execution_count": 4,
   "metadata": {
    "collapsed": false
   },
   "outputs": [],
   "source": [
    "dataframe = pandas.read_csv('monthly-milk-production-pounds-p.csv', usecols=[1], engine='python')\n",
    "dataset = dataframe.values\n",
    "dataset = dataset.astype('float32')"
   ]
  },
  {
   "cell_type": "code",
   "execution_count": 5,
   "metadata": {
    "collapsed": false
   },
   "outputs": [
    {
     "data": {
      "text/plain": [
       "[<matplotlib.lines.Line2D at 0x116ad1128>]"
      ]
     },
     "execution_count": 5,
     "metadata": {},
     "output_type": "execute_result"
    },
    {
     "data": {
      "image/png": "[encoded data removed]",
      "text/plain": [
       "<matplotlib.figure.Figure at 0x107f744a8>"
      ]
     },
     "metadata": {},
     "output_type": "display_data"
    }
   ],
   "source": [
    "plt.plot(dataset)"
   ]
  },
  {
   "cell_type": "code",
   "execution_count": 6,
   "metadata": {
    "collapsed": true
   },
   "outputs": [],
   "source": [
    "scaler = MinMaxScaler(feature_range=(0, 1))\n",
    "dataset = scaler.fit_transform(dataset)"
   ]
  },
  {
   "cell_type": "code",
   "execution_count": 7,
   "metadata": {
    "collapsed": false
   },
   "outputs": [
    {
     "name": "stdout",
     "output_type": "stream",
     "text": [
      "112 56\n"
     ]
    }
   ],
   "source": [
    "train_size = int(len(dataset) * 0.67)\n",
    "test_size = len(dataset) - train_size\n",
    "train, test = dataset[0:train_size,:], dataset[train_size:len(dataset),:]\n",
    "print(len(train), len(test))"
   ]
  },
  {
   "cell_type": "code",
   "execution_count": 34,
   "metadata": {
    "collapsed": true
   },
   "outputs": [],
   "source": [
    "shift_length = 1"
   ]
  },
  {
   "cell_type": "code",
   "execution_count": 35,
   "metadata": {
    "collapsed": true
   },
   "outputs": [],
   "source": [
    "def convert_shifted(dataset, shift_length=1):\n",
    "    dataX, dataY = [], []\n",
    "    for i in range(len(dataset) - shift_length - 1):\n",
    "        a = dataset[i:(i + shift_length), 0]\n",
    "        dataX.append(a)\n",
    "        dataY.append(dataset[i + shift_length, 0])\n",
    "    return numpy.array(dataX), numpy.array(dataY)"
   ]
  },
  {
   "cell_type": "code",
   "execution_count": 36,
   "metadata": {
    "collapsed": false
   },
   "outputs": [],
   "source": [
    "trainX, trainY = convert_shifted(train, shift_length)\n",
    "testX, testY = convert_shifted(test, shift_length)"
   ]
  },
  {
   "cell_type": "code",
   "execution_count": 37,
   "metadata": {
    "collapsed": true
   },
   "outputs": [],
   "source": [
    "trainX = numpy.reshape(trainX, (trainX.shape[0], 1, trainX.shape[1]))\n",
    "testX = numpy.reshape(testX, (testX.shape[0], 1, testX.shape[1]))"
   ]
  },
  {
   "cell_type": "code",
   "execution_count": 38,
   "metadata": {
    "collapsed": false
   },
   "outputs": [
    {
     "name": "stdout",
     "output_type": "stream",
     "text": [
      "Epoch 1/100\n",
      "2s - loss: 0.0748\n",
      "Epoch 2/100\n",
      "1s - loss: 0.0311\n",
      "Epoch 3/100\n",
      "0s - loss: 0.0224\n",
      "Epoch 4/100\n",
      "0s - loss: 0.0204\n",
      "Epoch 5/100\n",
      "0s - loss: 0.0192\n",
      "Epoch 6/100\n",
      "0s - loss: 0.0177\n",
      "Epoch 7/100\n",
      "0s - loss: 0.0165\n",
      "Epoch 8/100\n",
      "0s - loss: 0.0154\n",
      "Epoch 9/100\n",
      "1s - loss: 0.0144\n",
      "Epoch 10/100\n",
      "0s - loss: 0.0138\n",
      "Epoch 11/100\n",
      "0s - loss: 0.0130\n",
      "Epoch 12/100\n",
      "0s - loss: 0.0124\n",
      "Epoch 13/100\n",
      "0s - loss: 0.0120\n",
      "Epoch 14/100\n",
      "0s - loss: 0.0116\n",
      "Epoch 15/100\n",
      "0s - loss: 0.0117\n",
      "Epoch 16/100\n",
      "0s - loss: 0.0113\n",
      "Epoch 17/100\n",
      "0s - loss: 0.0111\n",
      "Epoch 18/100\n",
      "0s - loss: 0.0111\n",
      "Epoch 19/100\n",
      "0s - loss: 0.0111\n",
      "Epoch 20/100\n",
      "0s - loss: 0.0110\n",
      "Epoch 21/100\n",
      "0s - loss: 0.0111\n",
      "Epoch 22/100\n",
      "0s - loss: 0.0110\n",
      "Epoch 23/100\n",
      "0s - loss: 0.0110\n",
      "Epoch 24/100\n",
      "1s - loss: 0.0110\n",
      "Epoch 25/100\n",
      "1s - loss: 0.0109\n",
      "Epoch 26/100\n",
      "0s - loss: 0.0110\n",
      "Epoch 27/100\n",
      "0s - loss: 0.0109\n",
      "Epoch 28/100\n",
      "0s - loss: 0.0109\n",
      "Epoch 29/100\n",
      "0s - loss: 0.0110\n",
      "Epoch 30/100\n",
      "1s - loss: 0.0109\n",
      "Epoch 31/100\n",
      "0s - loss: 0.0110\n",
      "Epoch 32/100\n",
      "1s - loss: 0.0109\n",
      "Epoch 33/100\n",
      "0s - loss: 0.0109\n",
      "Epoch 34/100\n",
      "1s - loss: 0.0109\n",
      "Epoch 35/100\n",
      "0s - loss: 0.0110\n",
      "Epoch 36/100\n",
      "1s - loss: 0.0110\n",
      "Epoch 37/100\n",
      "0s - loss: 0.0110\n",
      "Epoch 38/100\n",
      "0s - loss: 0.0108\n",
      "Epoch 39/100\n",
      "0s - loss: 0.0110\n",
      "Epoch 40/100\n",
      "0s - loss: 0.0109\n",
      "Epoch 41/100\n",
      "1s - loss: 0.0110\n",
      "Epoch 42/100\n",
      "0s - loss: 0.0109\n",
      "Epoch 43/100\n",
      "0s - loss: 0.0111\n",
      "Epoch 44/100\n",
      "0s - loss: 0.0109\n",
      "Epoch 45/100\n",
      "0s - loss: 0.0109\n",
      "Epoch 46/100\n",
      "1s - loss: 0.0110\n",
      "Epoch 47/100\n",
      "1s - loss: 0.0109\n",
      "Epoch 48/100\n",
      "0s - loss: 0.0110\n",
      "Epoch 49/100\n",
      "0s - loss: 0.0110\n",
      "Epoch 50/100\n",
      "0s - loss: 0.0109\n",
      "Epoch 51/100\n",
      "0s - loss: 0.0109\n",
      "Epoch 52/100\n",
      "1s - loss: 0.0109\n",
      "Epoch 53/100\n",
      "1s - loss: 0.0109\n",
      "Epoch 54/100\n",
      "1s - loss: 0.0109\n",
      "Epoch 55/100\n",
      "0s - loss: 0.0110\n",
      "Epoch 56/100\n",
      "0s - loss: 0.0110\n",
      "Epoch 57/100\n",
      "0s - loss: 0.0109\n",
      "Epoch 58/100\n",
      "0s - loss: 0.0108\n",
      "Epoch 59/100\n",
      "0s - loss: 0.0110\n",
      "Epoch 60/100\n",
      "0s - loss: 0.0110\n",
      "Epoch 61/100\n",
      "0s - loss: 0.0110\n",
      "Epoch 62/100\n",
      "0s - loss: 0.0109\n",
      "Epoch 63/100\n",
      "0s - loss: 0.0109\n",
      "Epoch 64/100\n",
      "1s - loss: 0.0110\n",
      "Epoch 65/100\n",
      "1s - loss: 0.0110\n",
      "Epoch 66/100\n",
      "0s - loss: 0.0110\n",
      "Epoch 67/100\n",
      "1s - loss: 0.0109\n",
      "Epoch 68/100\n",
      "0s - loss: 0.0108\n",
      "Epoch 69/100\n",
      "0s - loss: 0.0109\n",
      "Epoch 70/100\n",
      "0s - loss: 0.0109\n",
      "Epoch 71/100\n",
      "0s - loss: 0.0110\n",
      "Epoch 72/100\n",
      "0s - loss: 0.0109\n",
      "Epoch 73/100\n",
      "0s - loss: 0.0109\n",
      "Epoch 74/100\n",
      "0s - loss: 0.0109\n",
      "Epoch 75/100\n",
      "1s - loss: 0.0109\n",
      "Epoch 76/100\n",
      "0s - loss: 0.0109\n",
      "Epoch 77/100\n",
      "0s - loss: 0.0109\n",
      "Epoch 78/100\n",
      "0s - loss: 0.0109\n",
      "Epoch 79/100\n",
      "0s - loss: 0.0110\n",
      "Epoch 80/100\n",
      "0s - loss: 0.0108\n",
      "Epoch 81/100\n",
      "1s - loss: 0.0109\n",
      "Epoch 82/100\n",
      "1s - loss: 0.0109\n",
      "Epoch 83/100\n",
      "1s - loss: 0.0109\n",
      "Epoch 84/100\n",
      "0s - loss: 0.0109\n",
      "Epoch 85/100\n",
      "0s - loss: 0.0109\n",
      "Epoch 86/100\n",
      "0s - loss: 0.0110\n",
      "Epoch 87/100\n",
      "0s - loss: 0.0109\n",
      "Epoch 88/100\n",
      "0s - loss: 0.0109\n",
      "Epoch 89/100\n",
      "0s - loss: 0.0109\n",
      "Epoch 90/100\n",
      "0s - loss: 0.0108\n",
      "Epoch 91/100\n",
      "0s - loss: 0.0110\n",
      "Epoch 92/100\n",
      "0s - loss: 0.0110\n",
      "Epoch 93/100\n",
      "0s - loss: 0.0109\n",
      "Epoch 94/100\n",
      "0s - loss: 0.0111\n",
      "Epoch 95/100\n",
      "0s - loss: 0.0108\n",
      "Epoch 96/100\n",
      "0s - loss: 0.0110\n",
      "Epoch 97/100\n",
      "1s - loss: 0.0110\n",
      "Epoch 98/100\n",
      "0s - loss: 0.0108\n",
      "Epoch 99/100\n",
      "0s - loss: 0.0108\n",
      "Epoch 100/100\n",
      "0s - loss: 0.0108\n"
     ]
    },
    {
     "data": {
      "text/plain": [
       "<keras.callbacks.History at 0x11c3b9d68>"
      ]
     },
     "execution_count": 38,
     "metadata": {},
     "output_type": "execute_result"
    }
   ],
   "source": [
    "model = Sequential()\n",
    "model.add(LSTM(4, input_dim=shift_length))\n",
    "model.add(Dense(1))\n",
    "model.compile(loss='mean_squared_error', optimizer='adam')\n",
    "model.fit(trainX, trainY, nb_epoch=50, batch_size=1, verbose=2)"
   ]
  },
  {
   "cell_type": "code",
   "execution_count": 39,
   "metadata": {
    "collapsed": false
   },
   "outputs": [
    {
     "name": "stdout",
     "output_type": "stream",
     "text": [
      "Train Score: 43.05 RMSE\n",
      "Test Score: 51.51 RMSE\n"
     ]
    }
   ],
   "source": [
    "# make predictions\n",
    "trainPredict = model.predict(trainX)\n",
    "testPredict = model.predict(testX)\n",
    "\n",
    "trainPredict = scaler.inverse_transform(trainPredict)\n",
    "trainY = scaler.inverse_transform([trainY])\n",
    "testPredict = scaler.inverse_transform(testPredict)\n",
    "testY = scaler.inverse_transform([testY])\n",
    "\n",
    "trainScore = math.sqrt(mean_squared_error(trainY[0], trainPredict[:,0]))\n",
    "print('Train Score: %.2f RMSE' % (trainScore))\n",
    "testScore = math.sqrt(mean_squared_error(testY[0], testPredict[:,0]))\n",
    "print('Test Score: %.2f RMSE' % (testScore))"
   ]
  },
  {
   "cell_type": "code",
   "execution_count": 40,
   "metadata": {
    "collapsed": false
   },
   "outputs": [],
   "source": [
    "trainPredictPlot = numpy.empty_like(dataset)\n",
    "trainPredictPlot[:, :] = numpy.nan\n",
    "trainPredictPlot[shift_length:len(trainPredict) + shift_length, :] = trainPredict\n",
    "\n",
    "testPredictPlot = numpy.empty_like(dataset)\n",
    "testPredictPlot[:, :] = numpy.nan\n",
    "testPredictPlot[len(trainPredict) + (shift_length * 2) + 1 : len(dataset) - 1, :] = testPredict"
   ]
  },
  {
   "cell_type": "code",
   "execution_count": 41,
   "metadata": {
    "collapsed": false
   },
   "outputs": [
    {
     "data": {
      "text/plain": [
       "[<matplotlib.lines.Line2D at 0x11cefec50>]"
      ]
     },
     "execution_count": 41,
     "metadata": {},
     "output_type": "execute_result"
    },
    {
     "data": {
      "image/png": "[encoded data removed]",
      "text/plain": [
       "<matplotlib.figure.Figure at 0x11c8371d0>"
      ]
     },
     "metadata": {},
     "output_type": "display_data"
    }
   ],
   "source": [
    "plt.plot(scaler.inverse_transform(dataset))\n",
    "plt.plot(trainPredictPlot)\n",
    "plt.plot(testPredictPlot)"
   ]
  },
  {
   "cell_type": "code",
   "execution_count": null,
   "metadata": {
    "collapsed": true
   },
   "outputs": [],
   "source": []
  }
 ],
 "metadata": {
  "kernelspec": {
   "display_name": "Python 3",
   "language": "python",
   "name": "python3"
  },
  "language_info": {
   "codemirror_mode": {
    "name": "ipython",
    "version": 3
   },
   "file_extension": ".py",
   "mimetype": "text/x-python",
   "name": "python",
   "nbconvert_exporter": "python",
   "pygments_lexer": "ipython3",
   "version": "3.5.1"
  }
 },
 "nbformat": 4,
 "nbformat_minor": 0
}
